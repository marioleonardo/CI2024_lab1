{
  "cells": [
    {
      "cell_type": "markdown",
      "metadata": {
        "id": "O4hnEpQGdeo8"
      },
      "source": [
        "Copyright **`(c)`** 2024 Giovanni Squillero `<giovanni.squillero@polito.it>`  \n",
        "[`https://github.com/squillero/computational-intelligence`](https://github.com/squillero/computational-intelligence)  \n",
        "Free for personal or classroom use; see [`LICENSE.md`](https://github.com/squillero/computational-intelligence/blob/master/LICENSE.md) for details.  "
      ]
    },
    {
      "cell_type": "markdown",
      "metadata": {
        "id": "1_sMgfo4deo_"
      },
      "source": [
        "# Set Cover problem\n",
        "\n",
        "See: https://en.wikipedia.org/wiki/Set_cover_problem"
      ]
    },
    {
      "cell_type": "code",
      "execution_count": 2,
      "metadata": {
        "colab": {
          "base_uri": "https://localhost:8080/"
        },
        "id": "eTF5pVmtdeo_",
        "outputId": "a1e50a89-a8d4-43f2-f3ac-0a24d9ad6c9d"
      },
      "outputs": [
        {
          "output_type": "stream",
          "name": "stdout",
          "text": [
            "Collecting icecream\n",
            "  Downloading icecream-2.1.3-py2.py3-none-any.whl.metadata (1.4 kB)\n",
            "Collecting colorama>=0.3.9 (from icecream)\n",
            "  Downloading colorama-0.4.6-py2.py3-none-any.whl.metadata (17 kB)\n",
            "Requirement already satisfied: pygments>=2.2.0 in /usr/local/lib/python3.10/dist-packages (from icecream) (2.18.0)\n",
            "Collecting executing>=0.3.1 (from icecream)\n",
            "  Downloading executing-2.1.0-py2.py3-none-any.whl.metadata (8.9 kB)\n",
            "Collecting asttokens>=2.0.1 (from icecream)\n",
            "  Downloading asttokens-2.4.1-py2.py3-none-any.whl.metadata (5.2 kB)\n",
            "Requirement already satisfied: six>=1.12.0 in /usr/local/lib/python3.10/dist-packages (from asttokens>=2.0.1->icecream) (1.16.0)\n",
            "Downloading icecream-2.1.3-py2.py3-none-any.whl (8.4 kB)\n",
            "Downloading asttokens-2.4.1-py2.py3-none-any.whl (27 kB)\n",
            "Downloading colorama-0.4.6-py2.py3-none-any.whl (25 kB)\n",
            "Downloading executing-2.1.0-py2.py3-none-any.whl (25 kB)\n",
            "Installing collected packages: executing, colorama, asttokens, icecream\n",
            "Successfully installed asttokens-2.4.1 colorama-0.4.6 executing-2.1.0 icecream-2.1.3\n"
          ]
        }
      ],
      "source": [
        "!pip install icecream\n",
        "from random import random, seed\n",
        "from itertools import product\n",
        "import numpy as np\n",
        "from icecream import ic"
      ]
    },
    {
      "cell_type": "markdown",
      "metadata": {
        "id": "nGDUOdshdepA"
      },
      "source": [
        "## Reproducible Initialization\n",
        "\n",
        "If you want to get reproducible results, use `rng` (and restart the kernel); for non-reproducible ones, use `np.random`."
      ]
    },
    {
      "cell_type": "code",
      "execution_count": 3,
      "metadata": {
        "id": "mTT6ikOidepA"
      },
      "outputs": [],
      "source": [
        "UNIVERSE_SIZE = 100_000\n",
        "NUM_SETS = 10_000\n",
        "DENSITY = 0.3\n",
        "\n",
        "\n",
        "\n",
        "data = [\n",
        "    [100, 10, 0.2],\n",
        "    [1000, 100, 0.2],\n",
        "    [10000, 1000, 0.3],\n",
        "    [100000, 10000, 0.1],\n",
        "    [100000, 10000, 0.2],\n",
        "    [100000, 10000, 0.3]\n",
        "]\n",
        "\n",
        "rng = np.random.Generator(np.random.PCG64([UNIVERSE_SIZE, NUM_SETS, int(10_000 * DENSITY)]))"
      ]
    },
    {
      "cell_type": "markdown",
      "metadata": {
        "id": "ixVxQUPPdepB"
      },
      "source": [
        "## Helper Functions"
      ]
    },
    {
      "cell_type": "code",
      "execution_count": 4,
      "metadata": {
        "id": "-v9pXq-5depB"
      },
      "outputs": [],
      "source": [
        "def valid(solution):\n",
        "    \"\"\"Checks wether solution is valid (ie. covers all universe)\"\"\"\n",
        "    return np.all(np.logical_or.reduce(SETS[solution]))\n",
        "\n",
        "\n",
        "def cost(solution):\n",
        "    \"\"\"Returns the cost of a solution (to be minimized)\"\"\"\n",
        "    return COSTS[solution].sum()"
      ]
    },
    {
      "cell_type": "markdown",
      "metadata": {
        "id": "jLejAlW3depC"
      },
      "source": [
        "## Have Fun!"
      ]
    },
    {
      "cell_type": "code",
      "execution_count": 5,
      "metadata": {
        "id": "BEmtAtCMdepD"
      },
      "outputs": [],
      "source": [
        "\n",
        "# Apply the greedy algorithm to the first set of LIST_OF_SETS\n",
        "class TabuSearch:\n",
        "    def __init__(self, list_of_sets, max_iterations, tabu_tenure, max_no_improve):\n",
        "        self.list_of_sets = list_of_sets\n",
        "        self.max_iterations = max_iterations\n",
        "        self.tabu_tenure = tabu_tenure\n",
        "        self.max_no_improve = max_no_improve\n",
        "        self.tabu_list = []\n",
        "        self.best_solution = None\n",
        "        self.best_cost = float('inf')\n",
        "        self.evaluations=0\n",
        "\n",
        "    def _get_coverage(self, selected_sets):\n",
        "        # Calculate the coverage of the selected sets\n",
        "        sets, _ = self.list_of_sets\n",
        "        covered = np.any(sets[selected_sets], axis=0)\n",
        "        return covered\n",
        "\n",
        "    def _fitness_function(self, selected_sets):\n",
        "        # Evaluate the solution based on the total cost of the selected sets\n",
        "        self.evaluations+=1\n",
        "        covered_elements = self._get_coverage(selected_sets)\n",
        "        num_uncovered = np.sum(~covered_elements)\n",
        "        return cost(selected_sets), num_uncovered\n",
        "\n",
        "    def _generate_initial_solution(self):\n",
        "        # Greedy initialization: select sets that cover the most elements\n",
        "        sets, _ = self.list_of_sets\n",
        "        num_elements = sets.shape[1]\n",
        "        uncovered_elements = np.ones(num_elements, dtype=bool)\n",
        "        selected_sets = []\n",
        "\n",
        "        while np.any(uncovered_elements):\n",
        "            # Select the set that covers the most uncovered elements\n",
        "            cover_count = np.sum(sets[:, uncovered_elements], axis=1)\n",
        "            best_set = np.argmax(cover_count)\n",
        "            selected_sets.append(best_set)\n",
        "            uncovered_elements = uncovered_elements & ~sets[best_set]\n",
        "\n",
        "        return selected_sets\n",
        "\n",
        "    def _get_neighborhood(self, current_solution):\n",
        "        # Generate neighborhood by adding or removing one set from the current solution\n",
        "        sets, _ = self.list_of_sets\n",
        "        num_sets = sets.shape[0]\n",
        "        neighborhood = []\n",
        "\n",
        "        # Try adding a new set\n",
        "        for s in range(num_sets):\n",
        "            if s not in current_solution:\n",
        "                new_solution = current_solution + [s]\n",
        "                neighborhood.append(new_solution)\n",
        "\n",
        "        # Try removing a set\n",
        "        for s in current_solution:\n",
        "            new_solution = [i for i in current_solution if i != s]\n",
        "            neighborhood.append(new_solution)\n",
        "\n",
        "        return neighborhood\n",
        "\n",
        "    def run(self):\n",
        "        current_solution = self._generate_initial_solution()\n",
        "        current_cost, num_uncovered = self._fitness_function(current_solution)\n",
        "        best_solution = current_solution\n",
        "        best_cost = current_cost\n",
        "        no_improve_count = 0\n",
        "\n",
        "        for iteration in range(self.max_iterations):\n",
        "            # print(f\"Iteration {iteration + 1}/{self.max_iterations}\")\n",
        "            neighborhood = self._get_neighborhood(current_solution)\n",
        "            best_neigh_solution = None\n",
        "            best_neigh_cost = float('inf')\n",
        "\n",
        "            # Evaluate all neighbors\n",
        "            for neighbor in neighborhood:\n",
        "                if neighbor not in self.tabu_list:\n",
        "                    neigh_cost, neigh_uncovered = self._fitness_function(neighbor)\n",
        "\n",
        "                    # Only consider valid solutions that cover all elements\n",
        "                    if neigh_uncovered == 0 and neigh_cost < best_neigh_cost:\n",
        "                        best_neigh_solution = neighbor\n",
        "                        best_neigh_cost = neigh_cost\n",
        "\n",
        "            # If no valid neighbor found, stop\n",
        "            if best_neigh_solution is None:\n",
        "                break\n",
        "\n",
        "            # Update current solution to best neighbor\n",
        "            current_solution = best_neigh_solution\n",
        "            current_cost = best_neigh_cost\n",
        "\n",
        "            # Update tabu list\n",
        "            self.tabu_list.append(current_solution)\n",
        "            if len(self.tabu_list) > self.tabu_tenure:\n",
        "                self.tabu_list.pop(0)\n",
        "\n",
        "            # Update best solution if necessary\n",
        "            if current_cost < best_cost:\n",
        "                best_solution = current_solution\n",
        "                best_cost = current_cost\n",
        "                no_improve_count = 0\n",
        "            else:\n",
        "                no_improve_count += 1\n",
        "\n",
        "            # Stop if no improvement for too long\n",
        "            if no_improve_count >= self.max_no_improve:\n",
        "                break\n",
        "\n",
        "        self.best_solution = best_solution\n",
        "        self.best_cost = best_cost\n",
        "        return best_solution, best_cost, self.evaluations\n",
        "\n",
        "\n",
        "\n",
        "\n",
        "\n",
        "\n",
        "\n"
      ]
    },
    {
      "cell_type": "code",
      "execution_count": 7,
      "metadata": {
        "id": "hGGvyMNrg4wW",
        "colab": {
          "base_uri": "https://localhost:8080/"
        },
        "outputId": "c3e54277-1f56-4bf2-ca6f-9aab1c35ab86"
      },
      "outputs": [
        {
          "output_type": "stream",
          "name": "stderr",
          "text": [
            "ic| valid(best_solution): True\n",
            "    cost(best_solution): 276.3830031082482\n",
            "    num_eval: 30\n",
            "    len(best_solution): 9\n",
            "ic| valid(best_solution): True\n",
            "    cost(best_solution): 5868.5884399713095\n",
            "    num_eval: 497\n",
            "    len(best_solution): 17\n",
            "ic| valid(best_solution): True\n",
            "    cost(best_solution): 107812.5502974177\n",
            "    num_eval: 4997\n",
            "    len(best_solution): 16\n",
            "ic| valid(best_solution): True\n",
            "    cost(best_solution): 1518872.4344240825\n",
            "    num_eval: 49997\n",
            "    len(best_solution): 60\n",
            "ic| valid(best_solution): True\n",
            "    cost(best_solution): 1734564.597877632\n",
            "    num_eval: 89997\n",
            "    len(best_solution): 32\n",
            "ic| valid(best_solution): True\n",
            "    cost(best_solution): 1774409.1297232155\n",
            "    num_eval: 49997\n",
            "    len(best_solution): 21\n"
          ]
        }
      ],
      "source": [
        "\n",
        "\n",
        "max_iterations = 1000\n",
        "tabu_tenure = 50\n",
        "max_no_improve = 5\n",
        "\n",
        "for mar in (data):\n",
        "    SETS = np.random.random((mar[1], mar[0])) < mar[2]\n",
        "    for s in range(mar[0]):\n",
        "        if not np.any(SETS[:, s]):\n",
        "            SETS[np.random.randint(mar[1]), s] = True\n",
        "    COSTS = np.power(SETS.sum(axis=1), 1.1)\n",
        "\n",
        "    tabu_search = TabuSearch((SETS,COSTS), max_iterations, tabu_tenure, max_no_improve)\n",
        "    best_solution, best_cost, num_eval = tabu_search.run()\n",
        "    ic(valid(best_solution), cost(best_solution), num_eval, len(best_solution))\n",
        "\n"
      ]
    },
    {
      "cell_type": "code",
      "source": [],
      "metadata": {
        "id": "cckecXP_lkv7"
      },
      "execution_count": null,
      "outputs": []
    }
  ],
  "metadata": {
    "accelerator": "GPU",
    "colab": {
      "gpuType": "T4",
      "provenance": []
    },
    "kernelspec": {
      "display_name": "Python 3",
      "name": "python3"
    },
    "language_info": {
      "codemirror_mode": {
        "name": "ipython",
        "version": 3
      },
      "file_extension": ".py",
      "mimetype": "text/x-python",
      "name": "python",
      "nbconvert_exporter": "python",
      "pygments_lexer": "ipython3",
      "version": "3.10.5"
    }
  },
  "nbformat": 4,
  "nbformat_minor": 0
}